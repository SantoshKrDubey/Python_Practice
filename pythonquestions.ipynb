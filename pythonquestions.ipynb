{
  "nbformat": 4,
  "nbformat_minor": 0,
  "metadata": {
    "colab": {
      "provenance": [],
      "authorship_tag": "ABX9TyN5l1NvJHCbdfb4WLehpcKD"
    },
    "kernelspec": {
      "name": "python3",
      "display_name": "Python 3"
    },
    "language_info": {
      "name": "python"
    }
  },
  "cells": [
    {
      "cell_type": "code",
      "execution_count": null,
      "metadata": {
        "colab": {
          "base_uri": "https://localhost:8080/"
        },
        "id": "R66617lpErce",
        "outputId": "1f37605a-1d84-4229-f5bb-ec67a5bebeb1"
      },
      "outputs": [
        {
          "output_type": "stream",
          "name": "stdout",
          "text": [
            "[8, 4, 2, 5, 1, 6, 3]\n"
          ]
        }
      ],
      "source": [
        "# Q1 swap the first and last numbers of a list\n",
        "\n",
        "# 1. Using Function\n",
        "def interchage(lst):\n",
        "  if len(lst)>1:\n",
        "    lst[0],lst[-1]=lst[-1],lst[0]\n",
        "  return lst\n",
        "\n",
        "lst = [3,4,2,5,1,6,8]\n",
        "print(interchage(lst))"
      ]
    },
    {
      "cell_type": "code",
      "source": [
        "# Q2. converting a list in tuple\n",
        "list1 = [4,3,6,7,8,1]\n",
        "convert = tuple(list1)\n",
        "print(convert)\n",
        "print(type(convert))\n"
      ],
      "metadata": {
        "colab": {
          "base_uri": "https://localhost:8080/"
        },
        "id": "5FBwWuYmGYov",
        "outputId": "9a6bbbfa-7b67-463a-efde-c5e1d032fb6e"
      },
      "execution_count": null,
      "outputs": [
        {
          "output_type": "stream",
          "name": "stdout",
          "text": [
            "(4, 3, 6, 7, 8, 1)\n",
            "<class 'tuple'>\n"
          ]
        }
      ]
    },
    {
      "cell_type": "code",
      "source": [
        "# Q3. Calculates the mean of numbers in a list given by user\n",
        "num = int(input(\"Enter the number of Elements: \"))\n",
        "\n",
        "l = []\n",
        "\n",
        "for i in range(1, num+1):\n",
        "  element = int(input(\"Enter the Elements: \"))\n",
        "  l.append(element)\n",
        "\n",
        "average = sum(l)/num\n",
        "\n",
        "print(\"Mean of the Elements in list\", round(average,2))"
      ],
      "metadata": {
        "colab": {
          "base_uri": "https://localhost:8080/"
        },
        "id": "j_NXXKYRIEJb",
        "outputId": "cad85fae-3d96-49c4-fb00-91c64603543d"
      },
      "execution_count": null,
      "outputs": [
        {
          "output_type": "stream",
          "name": "stdout",
          "text": [
            "Enter the number of Elements: 6\n",
            "Enter the Elements: 2\n",
            "Enter the Elements: 8\n",
            "Enter the Elements: 4\n",
            "Enter the Elements: 8\n",
            "Enter the Elements: 6\n",
            "Enter the Elements: 7\n",
            "Mean of the Elements in list 5.83\n"
          ]
        }
      ]
    },
    {
      "cell_type": "code",
      "source": [
        "# Q4. Dictionary\n",
        "dictt = {i: i*i for i in range(3,9)}\n",
        "print(dictt)"
      ],
      "metadata": {
        "colab": {
          "base_uri": "https://localhost:8080/"
        },
        "id": "otqeFscxKBss",
        "outputId": "94dbef80-56ec-417a-d928-e91d727c35bc"
      },
      "execution_count": null,
      "outputs": [
        {
          "output_type": "stream",
          "name": "stdout",
          "text": [
            "{3: 9, 4: 16, 5: 25, 6: 36, 7: 49, 8: 64}\n"
          ]
        }
      ]
    },
    {
      "cell_type": "code",
      "source": [
        "# Q5. Find the sum of the elements in list\n",
        "ele = [4,8,5,6,7,1]\n",
        "result = 0\n",
        "for i in ele:\n",
        "  result = result + i\n",
        "\n",
        "print(result)"
      ],
      "metadata": {
        "colab": {
          "base_uri": "https://localhost:8080/"
        },
        "id": "NOXX5kprKqmA",
        "outputId": "edea55dc-500b-4f1f-cd2c-7cee1acfc0af"
      },
      "execution_count": null,
      "outputs": [
        {
          "output_type": "stream",
          "name": "stdout",
          "text": [
            "31\n"
          ]
        }
      ]
    },
    {
      "cell_type": "code",
      "source": [
        "# Q6. Find the product of the elemnts in list\n",
        "elements = [2,5,9]\n",
        "rsult = 1\n",
        "for i in elements:\n",
        "  rsult = rsult*i\n",
        "\n",
        "print(rsult)"
      ],
      "metadata": {
        "colab": {
          "base_uri": "https://localhost:8080/"
        },
        "id": "A3EDzgTxLvfC",
        "outputId": "876e5733-7000-4f3e-d657-a560ab20754b"
      },
      "execution_count": null,
      "outputs": [
        {
          "output_type": "stream",
          "name": "stdout",
          "text": [
            "90\n"
          ]
        }
      ]
    },
    {
      "cell_type": "code",
      "source": [
        "# Q7. reversing the list\n",
        "lst1 = [4,3,5,6,2,7,5]\n",
        "lst1.reverse()\n",
        "print(lst1)"
      ],
      "metadata": {
        "colab": {
          "base_uri": "https://localhost:8080/"
        },
        "id": "YcbNpTFRNENV",
        "outputId": "40d96542-73d0-4c95-ad00-aa06d1a7e9d6"
      },
      "execution_count": null,
      "outputs": [
        {
          "output_type": "stream",
          "name": "stdout",
          "text": [
            "[5, 7, 2, 6, 5, 3, 4]\n"
          ]
        }
      ]
    },
    {
      "cell_type": "code",
      "source": [
        "# reverse using function\n",
        "def reversing(lst1):\n",
        "  rev_lst = lst1[::-1]\n",
        "  return rev_lst\n",
        "\n",
        "lst1 = [4,3,5,6,2,7,5]\n",
        "print(reversing(lst1))"
      ],
      "metadata": {
        "colab": {
          "base_uri": "https://localhost:8080/"
        },
        "id": "Og0sFbZqNciy",
        "outputId": "e068195e-3fef-4d13-83ea-d13adf4d45b8"
      },
      "execution_count": null,
      "outputs": [
        {
          "output_type": "stream",
          "name": "stdout",
          "text": [
            "[5, 7, 2, 6, 5, 3, 4]\n"
          ]
        }
      ]
    },
    {
      "cell_type": "code",
      "source": [
        "# Q8. list with index\n",
        "lst= [10,33,58,78,44,12]\n",
        "for i, val in enumerate(lst):\n",
        "  print(i,val)"
      ],
      "metadata": {
        "colab": {
          "base_uri": "https://localhost:8080/"
        },
        "id": "S0gOnFAdONjY",
        "outputId": "b6813c6a-8e47-45ba-e479-c37d1172421f"
      },
      "execution_count": null,
      "outputs": [
        {
          "output_type": "stream",
          "name": "stdout",
          "text": [
            "0 10\n",
            "1 33\n",
            "2 58\n",
            "3 78\n",
            "4 44\n",
            "5 12\n"
          ]
        }
      ]
    },
    {
      "cell_type": "code",
      "source": [
        "# Q9. Cumulative frequency of a list\n",
        "list1 = [10,20,30,40,50]\n",
        "\n",
        "sum = 0\n",
        "result = []\n",
        "\n",
        "for i in list1:\n",
        "  sum = sum+i\n",
        "  result.append(sum)\n",
        "  print(result)\n",
        "print('*'*50)\n",
        "print(result)"
      ],
      "metadata": {
        "colab": {
          "base_uri": "https://localhost:8080/"
        },
        "id": "qoRLeykTQAT1",
        "outputId": "b7f626a6-2946-438b-c465-79eef1325b68"
      },
      "execution_count": null,
      "outputs": [
        {
          "output_type": "stream",
          "name": "stdout",
          "text": [
            "[10]\n",
            "[10, 30]\n",
            "[10, 30, 60]\n",
            "[10, 30, 60, 100]\n",
            "[10, 30, 60, 100, 150]\n",
            "**************************************************\n",
            "[10, 30, 60, 100, 150]\n"
          ]
        }
      ]
    },
    {
      "cell_type": "code",
      "source": [
        "# Q10. Number of occurance in a list\n",
        "lst = [4,2,5,8,4,2,1,5,5,4,8,7,3,1,3]\n",
        "occ = []\n",
        "\n",
        "for i in lst:\n",
        "  if i not in occ:\n",
        "    occ.append(i)\n",
        "    print(i, \"occured\", lst.count(i), \"times\")"
      ],
      "metadata": {
        "colab": {
          "base_uri": "https://localhost:8080/"
        },
        "id": "BEoB3uCiQgQT",
        "outputId": "2050c7c9-1718-43ea-9bdf-04615f9b75c2"
      },
      "execution_count": null,
      "outputs": [
        {
          "output_type": "stream",
          "name": "stdout",
          "text": [
            "4 occured 3 times\n",
            "2 occured 2 times\n",
            "5 occured 3 times\n",
            "8 occured 2 times\n",
            "1 occured 2 times\n",
            "7 occured 1 times\n",
            "3 occured 2 times\n"
          ]
        }
      ]
    },
    {
      "cell_type": "code",
      "source": [],
      "metadata": {
        "id": "STEcxlCTRdVx"
      },
      "execution_count": null,
      "outputs": []
    }
  ]
}